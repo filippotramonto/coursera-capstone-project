{
    "nbformat_minor": 1, 
    "cells": [
        {
            "source": "# Segmenting and Clustering Neighborhoods in Toronto", 
            "cell_type": "markdown", 
            "metadata": {
                "collapsed": true
            }
        }, 
        {
            "source": "### Assignment for the week 3 of the Coursera course\"Applied Data Science Capstone\"", 
            "cell_type": "markdown", 
            "metadata": {}
        }, 
        {
            "source": "Import requests package to get the wikipedia page and the BeautifulSoup module for scraping the web page", 
            "cell_type": "markdown", 
            "metadata": {}
        }, 
        {
            "execution_count": 1, 
            "cell_type": "code", 
            "metadata": {}, 
            "outputs": [], 
            "source": "import requests\nfrom bs4 import BeautifulSoup"
        }, 
        {
            "source": "Get the wikipedia page", 
            "cell_type": "markdown", 
            "metadata": {}
        }, 
        {
            "execution_count": 2, 
            "cell_type": "code", 
            "metadata": {}, 
            "outputs": [], 
            "source": "link='https://en.wikipedia.org/wiki/List_of_postal_codes_of_Canada:_M'\npage = requests.get(link)"
        }, 
        {
            "source": "Transform the page in BeautifulSoup object for scraping", 
            "cell_type": "markdown", 
            "metadata": {}
        }, 
        {
            "execution_count": 3, 
            "cell_type": "code", 
            "metadata": {}, 
            "outputs": [], 
            "source": "soup=BeautifulSoup(page.content,'html.parser')"
        }, 
        {
            "execution_count": 17, 
            "cell_type": "code", 
            "metadata": {}, 
            "outputs": [], 
            "source": "#print(soup.prettify)"
        }, 
        {
            "source": "Get the table with the data", 
            "cell_type": "markdown", 
            "metadata": {}
        }, 
        {
            "execution_count": 18, 
            "cell_type": "code", 
            "metadata": {}, 
            "outputs": [], 
            "source": "table=list(soup.find_all('table',class_='wikitable sortable'))[0]\n#table"
        }, 
        {
            "source": "Get the list of the rows of the table", 
            "cell_type": "markdown", 
            "metadata": {}
        }, 
        {
            "execution_count": 19, 
            "cell_type": "code", 
            "metadata": {}, 
            "outputs": [
                {
                    "execution_count": 19, 
                    "metadata": {}, 
                    "data": {
                        "text/plain": "<tr>\n<th>Postcode</th>\n<th>Borough</th>\n<th>Neighbourhood\n</th></tr>"
                    }, 
                    "output_type": "execute_result"
                }
            ], 
            "source": "tr_list=table.find_all('tr')\ntr_list.pop(0) # delete the firs element, containing the column labels\n#tr_list"
        }, 
        {
            "source": "Bulild a list of dictionaries with the data following the requirenments of the asseignment", 
            "cell_type": "markdown", 
            "metadata": {}
        }, 
        {
            "execution_count": 12, 
            "cell_type": "code", 
            "metadata": {}, 
            "outputs": [], 
            "source": "data=[]\npcode_prev = ''\nfor i, row in enumerate(tr_list):                  # iterate on the list of rows\n    td_list = row.find_all('td')                   # build a list of the cells in the row\n    borough = td_list[1].get_text()                # extract the value of borough in string format\n    neighborhood = td_list[2].get_text().rstrip()  # extract the value of neighborhood in string format removing the \"\\n\" characters\n    if neighborhood == \"Not assigned\":\n        neighborhood = borough\n    if i == 0:                                     # to initialize the variables neighborhoods and borough_prev\n        neighborhoods = neighborhood\n        borough_prev = borough\n    if( borough != \"Not assigned\"):\n        pcode = td_list[0].get_text()        # current value of postal code\n        if i == 0:\n            data.append({'PostalCode': pcode,'Borough': borough,'Neighborhood': neighborhoods})\n        else:\n            if( pcode == pcode_prev):        # I'm assuming rows with the same postal code are in successive order \n                neighborhoods = neighborhoods + ', ' + neighborhood   # concatenate the neighborhood names\n            else:                            # when find different postal code then append the row with the values of the previous postal code\n                data.append({'PostalCode': pcode_prev,'Borough': borough_prev,'Neighborhood': neighborhoods})\n                neighborhoods = neighborhood\n        pcode_prev = pcode                  # register the previous vaule of postal code\n        borough_prev = borough"
        }, 
        {
            "source": "Import pandas package", 
            "cell_type": "markdown", 
            "metadata": {}
        }, 
        {
            "execution_count": 13, 
            "cell_type": "code", 
            "metadata": {}, 
            "outputs": [], 
            "source": "import pandas as pd"
        }, 
        {
            "source": "Build the dataframe from the list of dictionaries just built.", 
            "cell_type": "markdown", 
            "metadata": {}
        }, 
        {
            "execution_count": 16, 
            "cell_type": "code", 
            "metadata": {}, 
            "outputs": [
                {
                    "execution_count": 16, 
                    "metadata": {}, 
                    "data": {
                        "text/html": "<div>\n<style scoped>\n    .dataframe tbody tr th:only-of-type {\n        vertical-align: middle;\n    }\n\n    .dataframe tbody tr th {\n        vertical-align: top;\n    }\n\n    .dataframe thead th {\n        text-align: right;\n    }\n</style>\n<table border=\"1\" class=\"dataframe\">\n  <thead>\n    <tr style=\"text-align: right;\">\n      <th></th>\n      <th>PostalCode</th>\n      <th>Borough</th>\n      <th>Neighborhood</th>\n    </tr>\n  </thead>\n  <tbody>\n    <tr>\n      <th>1</th>\n      <td>M3A</td>\n      <td>North York</td>\n      <td>Parkwoods</td>\n    </tr>\n    <tr>\n      <th>2</th>\n      <td>M4A</td>\n      <td>North York</td>\n      <td>Victoria Village</td>\n    </tr>\n    <tr>\n      <th>3</th>\n      <td>M5A</td>\n      <td>Downtown Toronto</td>\n      <td>Harbourfront, Regent Park</td>\n    </tr>\n    <tr>\n      <th>4</th>\n      <td>M6A</td>\n      <td>North York</td>\n      <td>Lawrence Heights, Lawrence Manor</td>\n    </tr>\n    <tr>\n      <th>5</th>\n      <td>M7A</td>\n      <td>Queen's Park</td>\n      <td>Queen's Park</td>\n    </tr>\n  </tbody>\n</table>\n</div>", 
                        "text/plain": "  PostalCode           Borough                      Neighborhood\n1        M3A        North York                         Parkwoods\n2        M4A        North York                  Victoria Village\n3        M5A  Downtown Toronto         Harbourfront, Regent Park\n4        M6A        North York  Lawrence Heights, Lawrence Manor\n5        M7A      Queen's Park                      Queen's Park"
                    }, 
                    "output_type": "execute_result"
                }
            ], 
            "source": "df=pd.DataFrame(data)\ndf=df[['PostalCode','Borough','Neighborhood']]\ndf=df.drop(df.index[0])         # remove the first line\ndf.head()"
        }, 
        {
            "source": "Dataframe shape:", 
            "cell_type": "markdown", 
            "metadata": {}
        }, 
        {
            "execution_count": 11, 
            "cell_type": "code", 
            "metadata": {}, 
            "outputs": [
                {
                    "execution_count": 11, 
                    "metadata": {}, 
                    "data": {
                        "text/plain": "(102, 3)"
                    }, 
                    "output_type": "execute_result"
                }
            ], 
            "source": "df.shape"
        }, 
        {
            "execution_count": null, 
            "cell_type": "code", 
            "metadata": {}, 
            "outputs": [], 
            "source": ""
        }
    ], 
    "metadata": {
        "kernelspec": {
            "display_name": "Python 3.5", 
            "name": "python3", 
            "language": "python"
        }, 
        "language_info": {
            "mimetype": "text/x-python", 
            "nbconvert_exporter": "python", 
            "version": "3.5.5", 
            "name": "python", 
            "file_extension": ".py", 
            "pygments_lexer": "ipython3", 
            "codemirror_mode": {
                "version": 3, 
                "name": "ipython"
            }
        }
    }, 
    "nbformat": 4
}