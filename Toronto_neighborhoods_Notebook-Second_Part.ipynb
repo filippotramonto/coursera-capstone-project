{
    "nbformat_minor": 1, 
    "cells": [
        {
            "source": "# Segmenting and Clustering Neighborhoods in Toronto", 
            "cell_type": "markdown", 
            "metadata": {
                "collapsed": true
            }
        }, 
        {
            "source": "### Assignment for the week 3 of the Coursera course\"Applied Data Science Capstone\"", 
            "cell_type": "markdown", 
            "metadata": {}
        }, 
        {
            "source": "Import requests package to get the wikipedia page and the BeautifulSoup module for scraping the web page", 
            "cell_type": "markdown", 
            "metadata": {}
        }, 
        {
            "execution_count": 1, 
            "cell_type": "code", 
            "metadata": {}, 
            "outputs": [], 
            "source": "import requests\nfrom bs4 import BeautifulSoup"
        }, 
        {
            "source": "Get the wikipedia page", 
            "cell_type": "markdown", 
            "metadata": {}
        }, 
        {
            "execution_count": 2, 
            "cell_type": "code", 
            "metadata": {}, 
            "outputs": [], 
            "source": "link='https://en.wikipedia.org/wiki/List_of_postal_codes_of_Canada:_M'\npage = requests.get(link)"
        }, 
        {
            "source": "Transform the page in BeautifulSoup object for scraping", 
            "cell_type": "markdown", 
            "metadata": {}
        }, 
        {
            "execution_count": 3, 
            "cell_type": "code", 
            "metadata": {}, 
            "outputs": [], 
            "source": "soup=BeautifulSoup(page.content,'html.parser')\n#print(soup.prettify)"
        }, 
        {
            "source": "Get the table with the data", 
            "cell_type": "markdown", 
            "metadata": {}
        }, 
        {
            "execution_count": 4, 
            "cell_type": "code", 
            "metadata": {}, 
            "outputs": [], 
            "source": "table=list(soup.find_all('table',class_='wikitable sortable'))[0]\n#table"
        }, 
        {
            "source": "Get the list of the rows of the table", 
            "cell_type": "markdown", 
            "metadata": {}
        }, 
        {
            "execution_count": 5, 
            "cell_type": "code", 
            "metadata": {}, 
            "outputs": [], 
            "source": "tr_list=table.find_all('tr')\nr =tr_list.pop(0) # delete the firs element, containing the column labels\n#tr_list"
        }, 
        {
            "source": "Bulild a list of dictionaries with the data following the requirenments of the asseignment", 
            "cell_type": "markdown", 
            "metadata": {}
        }, 
        {
            "execution_count": 6, 
            "cell_type": "code", 
            "metadata": {}, 
            "outputs": [], 
            "source": "data=[]\npcode_prev = ''\nfor i, row in enumerate(tr_list):                  # iterate on the list of rows\n    td_list = row.find_all('td')                   # build a list of the cells in the row\n    borough = td_list[1].get_text()                # extract the value of borough in string format\n    neighborhood = td_list[2].get_text().rstrip()  # extract the value of neighborhood in string format removing the \"\\n\" characters\n    if neighborhood == \"Not assigned\":\n        neighborhood = borough\n    if i == 0:                                     # to initialize the variables neighborhoods and borough_prev\n        neighborhoods = neighborhood\n        borough_prev = borough\n    if( borough != \"Not assigned\"):\n        pcode = td_list[0].get_text()        # current value of postal code\n        if i == 0:\n            data.append({'PostalCode': pcode,'Borough': borough,'Neighborhood': neighborhoods})\n        else:\n            if( pcode == pcode_prev):        # I'm assuming rows with the same postal code are in successive order \n                neighborhoods = neighborhoods + ', ' + neighborhood   # concatenate the neighborhood names\n            else:                            # when find different postal code then append the row with the values of the previous postal code\n                data.append({'PostalCode': pcode_prev,'Borough': borough_prev,'Neighborhood': neighborhoods})\n                neighborhoods = neighborhood\n        pcode_prev = pcode                  # register the previous vaule of postal code\n        borough_prev = borough"
        }, 
        {
            "source": "Import pandas package", 
            "cell_type": "markdown", 
            "metadata": {}
        }, 
        {
            "execution_count": 7, 
            "cell_type": "code", 
            "metadata": {}, 
            "outputs": [], 
            "source": "import pandas as pd"
        }, 
        {
            "source": "#### Build the dataframe from the list of dictionaries just built.", 
            "cell_type": "markdown", 
            "metadata": {}
        }, 
        {
            "execution_count": 8, 
            "cell_type": "code", 
            "metadata": {}, 
            "outputs": [
                {
                    "execution_count": 8, 
                    "metadata": {}, 
                    "data": {
                        "text/html": "<div>\n<style scoped>\n    .dataframe tbody tr th:only-of-type {\n        vertical-align: middle;\n    }\n\n    .dataframe tbody tr th {\n        vertical-align: top;\n    }\n\n    .dataframe thead th {\n        text-align: right;\n    }\n</style>\n<table border=\"1\" class=\"dataframe\">\n  <thead>\n    <tr style=\"text-align: right;\">\n      <th></th>\n      <th>PostalCode</th>\n      <th>Borough</th>\n      <th>Neighborhood</th>\n    </tr>\n  </thead>\n  <tbody>\n    <tr>\n      <th>0</th>\n      <td>M3A</td>\n      <td>North York</td>\n      <td>Parkwoods</td>\n    </tr>\n    <tr>\n      <th>1</th>\n      <td>M4A</td>\n      <td>North York</td>\n      <td>Victoria Village</td>\n    </tr>\n    <tr>\n      <th>2</th>\n      <td>M5A</td>\n      <td>Downtown Toronto</td>\n      <td>Harbourfront, Regent Park</td>\n    </tr>\n    <tr>\n      <th>3</th>\n      <td>M6A</td>\n      <td>North York</td>\n      <td>Lawrence Heights, Lawrence Manor</td>\n    </tr>\n    <tr>\n      <th>4</th>\n      <td>M7A</td>\n      <td>Queen's Park</td>\n      <td>Queen's Park</td>\n    </tr>\n  </tbody>\n</table>\n</div>", 
                        "text/plain": "  PostalCode           Borough                      Neighborhood\n0        M3A        North York                         Parkwoods\n1        M4A        North York                  Victoria Village\n2        M5A  Downtown Toronto         Harbourfront, Regent Park\n3        M6A        North York  Lawrence Heights, Lawrence Manor\n4        M7A      Queen's Park                      Queen's Park"
                    }, 
                    "output_type": "execute_result"
                }
            ], 
            "source": "df=pd.DataFrame(data)\ndf=df[[\"PostalCode\",'Borough','Neighborhood']]\ndf=df.drop(df.index[0])         # remove the first line\ndf = df.reset_index(drop=True)\ndf.head()"
        }, 
        {
            "source": "#### Dataframe shape:", 
            "cell_type": "markdown", 
            "metadata": {}
        }, 
        {
            "execution_count": 9, 
            "cell_type": "code", 
            "metadata": {}, 
            "outputs": [
                {
                    "execution_count": 9, 
                    "metadata": {}, 
                    "data": {
                        "text/plain": "(102, 3)"
                    }, 
                    "output_type": "execute_result"
                }
            ], 
            "source": "df.shape"
        }, 
        {
            "source": "There are 102 postal codes with assigned borough.", 
            "cell_type": "markdown", 
            "metadata": {}
        }, 
        {
            "source": "## Second part of the assignment", 
            "cell_type": "markdown", 
            "metadata": {}
        }, 
        {
            "source": "I have tried to use the Geocoder package but it doesn't work. So I download the csv file.", 
            "cell_type": "markdown", 
            "metadata": {}
        }, 
        {
            "execution_count": 10, 
            "cell_type": "code", 
            "metadata": {}, 
            "outputs": [
                {
                    "output_type": "stream", 
                    "name": "stdout", 
                    "text": "--2018-12-07 12:35:10--  https://cocl.us/Geospatial_data\nResolving cocl.us (cocl.us)... 169.48.113.201\nConnecting to cocl.us (cocl.us)|169.48.113.201|:443... connected.\nHTTP request sent, awaiting response... 301 Moved Permanently\nLocation: https://ibm.box.com/shared/static/9afzr83pps4pwf2smjjcf1y5mvgb18rr.csv [following]\n--2018-12-07 12:35:12--  https://ibm.box.com/shared/static/9afzr83pps4pwf2smjjcf1y5mvgb18rr.csv\nResolving ibm.box.com (ibm.box.com)... 107.152.26.197\nConnecting to ibm.box.com (ibm.box.com)|107.152.26.197|:443... connected.\nHTTP request sent, awaiting response... 301 Moved Permanently\nLocation: https://ibm.ent.box.com/shared/static/9afzr83pps4pwf2smjjcf1y5mvgb18rr.csv [following]\n--2018-12-07 12:35:13--  https://ibm.ent.box.com/shared/static/9afzr83pps4pwf2smjjcf1y5mvgb18rr.csv\nResolving ibm.ent.box.com (ibm.ent.box.com)... 107.152.26.211\nConnecting to ibm.ent.box.com (ibm.ent.box.com)|107.152.26.211|:443... connected.\nHTTP request sent, awaiting response... 302 Found\nLocation: https://public.boxcloud.com/d/1/b1!vQJ5YRRfVjRh3cxiR4Rx9mfSC8W2M1vs0s869fjewEGFmPyVwjh9oCckcyPxS6Sqkj7h7DRyv66z0ZDj9IWTkBfiMlN0pcmJQGSErDxvfBlibh9eDr-ftnLjAx5XjhzuhIKIwkUnQMyeZ96O1TBhgZokUqI0lcnwMLq2KjOqmpkP0S9RWKJIatCgz-qeMVLUK7xUxJl0fm3H-5ZHijlsYda8xp4Khmhro95UKcVrV6S8pO_oyGo0Ync0tK1irlv8QmMdeqILm5IUxfN92rquByKH82mNxb2ycyeOd4eDIJXajY-d9gcHQ0afInWaxvQjOendngscCgMCVX6K3VP71ef6d139q1jbM8AWkvHG_Snh1hq0G8GZBdKp6BF7iFCTMGAmI7diC8E5AWvmF-yL9rGfbAjRU5PwBYgFMctgV7nbikbjxUeVz6IETfglCF3uqnS4K7FPCMpZ1F9D4AJBGQMabKRQnQ_7J5bBv8v6Ty_-wWtzFFGZHGflpZdinGJzUPIilrwqz89cDuKz8nGQh3MnZ7ZvtGqpyodIWgjMVtbFfuU1o-Iqm07nIhZibwtv1w5nMtUU1f6vynT55EQIaDSx8R2oWnuY33nqPN-Xi-JeZTHoEwmRZ-bLUH9huYOOSV6SwUuYFQ7pLlb3Rcg3ZxpDKOZVfdoHm0ejNRp_cW3Vx5Mur8gCr54uI5DctC7HA-rIR0mAY2vJDtMuILsZbPdn4gNg5RsuuxQ1JdSSMcVq0I-2T7TMaZcJ1PDb_OXTl5wSmRArTwv4WV13Zbz8cJ2QiFSl3o63Iz4qbVIzQU92dEFCn80XKfs8B4xy9MHIdslSf5XEqBw2vcIfzG2SaFmMCBal3-9-NJo6J_DYl8Wd5-vqjpX4GwQhlkb3eajq-vTNyJFf3Gh_SwTWfpOxANiLkJhcD9hYn-2Oikoi-jf-W8wNesvRIxAJQfvVCvYJh5M-_SXG6Vgipq_MnIxKdvPljJ_8oh0aXscRgHwRuaTDyQ96WlmHEEHQ8S6rlUMrulzIFQd-CKFmfoJNLjO8_tcTxhVidJxhdgbvEt5ElVX-RFUNIq70qHtFobSgIZosmV891eDT5xR3JLBbQc23PJZQ4f0ekJkiP_qq609dvTm17C8jdMwAf_M2EtiMfgaRbVlhfkRgRrOeOwgEYWvbyw1bUs0f79Hw2iTSGA5cknKVUoN8I8g8yabYD4ItQMLdY2GkQ9-79TLmIx3_9Z1ti6GY8E9qsAevVRbA2jBGJ7iTuP9h3fFe1ms7ghURrVYUw1V0QLkTIFPwEIgUVo1x3grBVXM1eKnhDMCWt-GCAFqV4LGVTEAFHlVAaHPjir-yj2OvUje5Ydb7h6GjexZ_cOD53wcc1Rz3amHRJwGRCoHa/download [following]\n--2018-12-07 12:35:14--  https://public.boxcloud.com/d/1/b1!vQJ5YRRfVjRh3cxiR4Rx9mfSC8W2M1vs0s869fjewEGFmPyVwjh9oCckcyPxS6Sqkj7h7DRyv66z0ZDj9IWTkBfiMlN0pcmJQGSErDxvfBlibh9eDr-ftnLjAx5XjhzuhIKIwkUnQMyeZ96O1TBhgZokUqI0lcnwMLq2KjOqmpkP0S9RWKJIatCgz-qeMVLUK7xUxJl0fm3H-5ZHijlsYda8xp4Khmhro95UKcVrV6S8pO_oyGo0Ync0tK1irlv8QmMdeqILm5IUxfN92rquByKH82mNxb2ycyeOd4eDIJXajY-d9gcHQ0afInWaxvQjOendngscCgMCVX6K3VP71ef6d139q1jbM8AWkvHG_Snh1hq0G8GZBdKp6BF7iFCTMGAmI7diC8E5AWvmF-yL9rGfbAjRU5PwBYgFMctgV7nbikbjxUeVz6IETfglCF3uqnS4K7FPCMpZ1F9D4AJBGQMabKRQnQ_7J5bBv8v6Ty_-wWtzFFGZHGflpZdinGJzUPIilrwqz89cDuKz8nGQh3MnZ7ZvtGqpyodIWgjMVtbFfuU1o-Iqm07nIhZibwtv1w5nMtUU1f6vynT55EQIaDSx8R2oWnuY33nqPN-Xi-JeZTHoEwmRZ-bLUH9huYOOSV6SwUuYFQ7pLlb3Rcg3ZxpDKOZVfdoHm0ejNRp_cW3Vx5Mur8gCr54uI5DctC7HA-rIR0mAY2vJDtMuILsZbPdn4gNg5RsuuxQ1JdSSMcVq0I-2T7TMaZcJ1PDb_OXTl5wSmRArTwv4WV13Zbz8cJ2QiFSl3o63Iz4qbVIzQU92dEFCn80XKfs8B4xy9MHIdslSf5XEqBw2vcIfzG2SaFmMCBal3-9-NJo6J_DYl8Wd5-vqjpX4GwQhlkb3eajq-vTNyJFf3Gh_SwTWfpOxANiLkJhcD9hYn-2Oikoi-jf-W8wNesvRIxAJQfvVCvYJh5M-_SXG6Vgipq_MnIxKdvPljJ_8oh0aXscRgHwRuaTDyQ96WlmHEEHQ8S6rlUMrulzIFQd-CKFmfoJNLjO8_tcTxhVidJxhdgbvEt5ElVX-RFUNIq70qHtFobSgIZosmV891eDT5xR3JLBbQc23PJZQ4f0ekJkiP_qq609dvTm17C8jdMwAf_M2EtiMfgaRbVlhfkRgRrOeOwgEYWvbyw1bUs0f79Hw2iTSGA5cknKVUoN8I8g8yabYD4ItQMLdY2GkQ9-79TLmIx3_9Z1ti6GY8E9qsAevVRbA2jBGJ7iTuP9h3fFe1ms7ghURrVYUw1V0QLkTIFPwEIgUVo1x3grBVXM1eKnhDMCWt-GCAFqV4LGVTEAFHlVAaHPjir-yj2OvUje5Ydb7h6GjexZ_cOD53wcc1Rz3amHRJwGRCoHa/download\nResolving public.boxcloud.com (public.boxcloud.com)... 107.152.27.200\nConnecting to public.boxcloud.com (public.boxcloud.com)|107.152.27.200|:443... connected.\nHTTP request sent, awaiting response... 200 OK\nLength: 2891 (2.8K) [text/csv]\nSaving to: \u2018toronto_geospatialdata.csv\u2019\n\n100%[======================================>] 2,891       --.-K/s   in 0s      \n\n2018-12-07 12:35:14 (292 MB/s) - \u2018toronto_geospatialdata.csv\u2019 saved [2891/2891]\n\n"
                }
            ], 
            "source": "!wget -O toronto_geospatialdata.csv https://cocl.us/Geospatial_data"
        }, 
        {
            "source": "#### Load the data in a dataframe", 
            "cell_type": "markdown", 
            "metadata": {}
        }, 
        {
            "execution_count": 11, 
            "cell_type": "code", 
            "metadata": {}, 
            "outputs": [
                {
                    "execution_count": 11, 
                    "metadata": {}, 
                    "data": {
                        "text/html": "<div>\n<style scoped>\n    .dataframe tbody tr th:only-of-type {\n        vertical-align: middle;\n    }\n\n    .dataframe tbody tr th {\n        vertical-align: top;\n    }\n\n    .dataframe thead th {\n        text-align: right;\n    }\n</style>\n<table border=\"1\" class=\"dataframe\">\n  <thead>\n    <tr style=\"text-align: right;\">\n      <th></th>\n      <th>Postal Code</th>\n      <th>Latitude</th>\n      <th>Longitude</th>\n    </tr>\n  </thead>\n  <tbody>\n    <tr>\n      <th>0</th>\n      <td>M1B</td>\n      <td>43.806686</td>\n      <td>-79.194353</td>\n    </tr>\n    <tr>\n      <th>1</th>\n      <td>M1C</td>\n      <td>43.784535</td>\n      <td>-79.160497</td>\n    </tr>\n    <tr>\n      <th>2</th>\n      <td>M1E</td>\n      <td>43.763573</td>\n      <td>-79.188711</td>\n    </tr>\n    <tr>\n      <th>3</th>\n      <td>M1G</td>\n      <td>43.770992</td>\n      <td>-79.216917</td>\n    </tr>\n    <tr>\n      <th>4</th>\n      <td>M1H</td>\n      <td>43.773136</td>\n      <td>-79.239476</td>\n    </tr>\n  </tbody>\n</table>\n</div>", 
                        "text/plain": "  Postal Code   Latitude  Longitude\n0         M1B  43.806686 -79.194353\n1         M1C  43.784535 -79.160497\n2         M1E  43.763573 -79.188711\n3         M1G  43.770992 -79.216917\n4         M1H  43.773136 -79.239476"
                    }, 
                    "output_type": "execute_result"
                }
            ], 
            "source": "toronto_geo_df = pd.read_csv('toronto_geospatialdata.csv')\ntoronto_geo_df.head()"
        }, 
        {
            "source": "#### Make a join between the two dataframe on 'PostalCode' column", 
            "cell_type": "markdown", 
            "metadata": {}
        }, 
        {
            "execution_count": 12, 
            "cell_type": "code", 
            "metadata": {}, 
            "outputs": [
                {
                    "execution_count": 12, 
                    "metadata": {}, 
                    "data": {
                        "text/html": "<div>\n<style scoped>\n    .dataframe tbody tr th:only-of-type {\n        vertical-align: middle;\n    }\n\n    .dataframe tbody tr th {\n        vertical-align: top;\n    }\n\n    .dataframe thead th {\n        text-align: right;\n    }\n</style>\n<table border=\"1\" class=\"dataframe\">\n  <thead>\n    <tr style=\"text-align: right;\">\n      <th></th>\n      <th>PostalCode</th>\n      <th>Borough</th>\n      <th>Neighborhood</th>\n      <th>Latitude</th>\n      <th>Longitude</th>\n    </tr>\n  </thead>\n  <tbody>\n    <tr>\n      <th>0</th>\n      <td>M3A</td>\n      <td>North York</td>\n      <td>Parkwoods</td>\n      <td>43.753259</td>\n      <td>-79.329656</td>\n    </tr>\n    <tr>\n      <th>1</th>\n      <td>M4A</td>\n      <td>North York</td>\n      <td>Victoria Village</td>\n      <td>43.725882</td>\n      <td>-79.315572</td>\n    </tr>\n    <tr>\n      <th>2</th>\n      <td>M5A</td>\n      <td>Downtown Toronto</td>\n      <td>Harbourfront, Regent Park</td>\n      <td>43.654260</td>\n      <td>-79.360636</td>\n    </tr>\n    <tr>\n      <th>3</th>\n      <td>M6A</td>\n      <td>North York</td>\n      <td>Lawrence Heights, Lawrence Manor</td>\n      <td>43.718518</td>\n      <td>-79.464763</td>\n    </tr>\n    <tr>\n      <th>4</th>\n      <td>M7A</td>\n      <td>Queen's Park</td>\n      <td>Queen's Park</td>\n      <td>43.662301</td>\n      <td>-79.389494</td>\n    </tr>\n  </tbody>\n</table>\n</div>", 
                        "text/plain": "  PostalCode           Borough                      Neighborhood   Latitude  \\\n0        M3A        North York                         Parkwoods  43.753259   \n1        M4A        North York                  Victoria Village  43.725882   \n2        M5A  Downtown Toronto         Harbourfront, Regent Park  43.654260   \n3        M6A        North York  Lawrence Heights, Lawrence Manor  43.718518   \n4        M7A      Queen's Park                      Queen's Park  43.662301   \n\n   Longitude  \n0 -79.329656  \n1 -79.315572  \n2 -79.360636  \n3 -79.464763  \n4 -79.389494  "
                    }, 
                    "output_type": "execute_result"
                }
            ], 
            "source": "toronto_df = df\ntoronto_df = toronto_df.join(toronto_geo_df.set_index('Postal Code'),on='PostalCode')\ntoronto_df.head()"
        }
    ], 
    "metadata": {
        "kernelspec": {
            "display_name": "Python 3.5", 
            "name": "python3", 
            "language": "python"
        }, 
        "language_info": {
            "mimetype": "text/x-python", 
            "nbconvert_exporter": "python", 
            "version": "3.5.5", 
            "name": "python", 
            "file_extension": ".py", 
            "pygments_lexer": "ipython3", 
            "codemirror_mode": {
                "version": 3, 
                "name": "ipython"
            }
        }
    }, 
    "nbformat": 4
}